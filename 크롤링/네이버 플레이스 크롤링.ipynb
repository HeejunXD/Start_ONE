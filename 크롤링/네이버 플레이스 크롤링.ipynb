{
 "cells": [
  {
   "cell_type": "code",
   "execution_count": 1,
   "id": "2512457d",
   "metadata": {},
   "outputs": [
    {
     "name": "stderr",
     "output_type": "stream",
     "text": [
      "C:\\Users\\Heejun\\AppData\\Local\\Temp/ipykernel_10912/216879519.py:19: DeprecationWarning: executable_path has been deprecated, please pass in a Service object\n",
      "  driver = webdriver.Chrome(chrome_path)  # 드라이버 경로\n"
     ]
    }
   ],
   "source": [
    "import time\n",
    "from selenium import webdriver\n",
    "from selenium.webdriver.common.keys import Keys\n",
    "from selenium.webdriver.common.by import By\n",
    "from selenium.webdriver.support.ui import WebDriverWait\n",
    "import chromedriver_autoinstaller\n",
    "from selenium.webdriver.support import expected_conditions as EC\n",
    "from time import sleep\n",
    "from bs4 import BeautifulSoup\n",
    "import re\n",
    "import json\n",
    "\n",
    "# --크롬창을 숨기고 실행-- driver에 options를 추가해주면된다\n",
    "# options = webdriver.ChromeOptions()\n",
    "# options.add_argument('headless')\n",
    "\n",
    "url = 'https://map.naver.com/v5/search'\n",
    "chrome_path = chromedriver_autoinstaller.install()\n",
    "driver = webdriver.Chrome(chrome_path)  # 드라이버 경로\n",
    "# driver = webdriver.Chrome('./chromedriver',chrome_options=options) # 크롬창 숨기기\n",
    "driver.get(url)\n",
    "key_word = '마포구 치킨'  # 검색어"
   ]
  },
  {
   "cell_type": "code",
   "execution_count": 2,
   "id": "92afb1a6",
   "metadata": {},
   "outputs": [],
   "source": [
    "# css 찾을때 까지 10초대기\n",
    "def time_wait(num, code):\n",
    "    try:\n",
    "        wait = WebDriverWait(driver, num).until(\n",
    "            EC.presence_of_element_located((By.CSS_SELECTOR, code)))\n",
    "    except:\n",
    "        print(code, '태그를 찾지 못하였습니다.')\n",
    "        driver.quit()\n",
    "    return wait"
   ]
  },
  {
   "cell_type": "code",
   "execution_count": 3,
   "id": "db02418d",
   "metadata": {},
   "outputs": [
    {
     "name": "stderr",
     "output_type": "stream",
     "text": [
      "C:\\Users\\Heejun\\AppData\\Local\\Temp/ipykernel_10912/662488279.py:5: DeprecationWarning: find_element_by_css_selector is deprecated. Please use find_element(by=By.CSS_SELECTOR, value=css_selector) instead\n",
      "  search = driver.find_element_by_css_selector('div.input_box > input.input_search')\n"
     ]
    }
   ],
   "source": [
    "# css를 찾을때 까지 10초 대기\n",
    "time_wait(10, 'div.input_box > input.input_search')\n",
    "\n",
    "# 검색창 찾기\n",
    "search = driver.find_element_by_css_selector('div.input_box > input.input_search')\n",
    "search.send_keys(key_word)  # 검색어 입력\n",
    "search.send_keys(Keys.ENTER)  # 엔터버튼 누르기\n",
    "\n",
    "res = driver.page_source  # 페이지 소스 가져오기\n",
    "soup = BeautifulSoup(res, 'html.parser')  # html 파싱하여  가져온다\n",
    "\n",
    "sleep(1)"
   ]
  },
  {
   "cell_type": "code",
   "execution_count": 4,
   "id": "5e30adf4",
   "metadata": {},
   "outputs": [],
   "source": [
    "# frame 변경 메소드\n",
    "def switch_frame(frame):\n",
    "    driver.switch_to.default_content()  # frame 초기화\n",
    "    driver.switch_to.frame(frame)  # frame 변경\n",
    "    res\n",
    "    soup\n",
    "\n",
    "\n",
    "# 페이지 다운\n",
    "def page_down(num):\n",
    "    body = driver.find_element_by_css_selector('body')\n",
    "    body.click()\n",
    "    for i in range(num):\n",
    "        body.send_keys(Keys.PAGE_DOWN)"
   ]
  },
  {
   "cell_type": "code",
   "execution_count": 5,
   "id": "e4994089",
   "metadata": {
    "scrolled": false
   },
   "outputs": [
    {
     "name": "stderr",
     "output_type": "stream",
     "text": [
      "C:\\Users\\Heejun\\AppData\\Local\\Temp/ipykernel_10912/3960065300.py:11: DeprecationWarning: find_element_by_css_selector is deprecated. Please use find_element(by=By.CSS_SELECTOR, value=css_selector) instead\n",
      "  body = driver.find_element_by_css_selector('body')\n"
     ]
    },
    {
     "name": "stdout",
     "output_type": "stream",
     "text": [
      "[크롤링 시작...]\n"
     ]
    },
    {
     "name": "stderr",
     "output_type": "stream",
     "text": [
      "C:\\Users\\Heejun\\AppData\\Local\\Temp/ipykernel_10912/1686672749.py:7: DeprecationWarning: find_elements_by_css_selector is deprecated. Please use find_elements(by=By.CSS_SELECTOR, value=css_selector) instead\n",
      "  store_list = driver.find_elements_by_css_selector('._1EKsQ')\n",
      "C:\\Users\\Heejun\\AppData\\Local\\Temp/ipykernel_10912/1686672749.py:9: DeprecationWarning: find_elements_by_css_selector is deprecated. Please use find_elements(by=By.CSS_SELECTOR, value=css_selector) instead\n",
      "  next_btn = driver.find_elements_by_css_selector('._2ky45 > a')\n"
     ]
    }
   ],
   "source": [
    "# frame 변경\n",
    "switch_frame('searchIframe')\n",
    "page_down(40)\n",
    "sleep(5)\n",
    "\n",
    "# 매장 리스트\n",
    "store_list = driver.find_elements_by_css_selector('._1EKsQ')\n",
    "# 페이지 리스트\n",
    "next_btn = driver.find_elements_by_css_selector('._2ky45 > a')\n",
    "\n",
    "# dictionary 생성\n",
    "store_dict = {'매장정보': []}\n",
    "# 시작시간\n",
    "start = time.time()\n",
    "print('[크롤링 시작...]')"
   ]
  },
  {
   "cell_type": "code",
   "execution_count": null,
   "id": "77dbc1df",
   "metadata": {},
   "outputs": [],
   "source": [
    "# 크롤링 (페이지 리스트 만큼)\n",
    "for btn in range(len(next_btn))[1:]:  # next_btn[0] = 이전 페이지 버튼 무시 -> [1]부터 시작\n",
    "    store_list\n",
    "    for data in range(len(store_list)):  # 매장 리스트 만큼\n",
    "        try:\n",
    "            page = driver.find_elements_by_css_selector('.OXiLu')\n",
    "            page[data].click()\n",
    "            sleep(4)\n",
    "        except:\n",
    "            pass\n",
    "        try:\n",
    "            # 상세 페이지로 이동\n",
    "            switch_frame('entryIframe')\n",
    "            time_wait(5, '._3XamX')\n",
    "            # 스크롤을 맨밑으로 1초간격으로 내린다.\n",
    "            for down in range(3):\n",
    "                sleep(1)\n",
    "                driver.execute_script(\"window.scrollTo(0, document.body.scrollHeight);\")\n",
    "\n",
    "            # -----매장명 가져오기-----\n",
    "            store_name = driver.find_element_by_css_selector('._3XamX').text\n",
    "\n",
    "            # -----평점-----\n",
    "            try:\n",
    "                store_rating_list = driver.find_element_by_css_selector('._1A8_M').text\n",
    "                store_rating = re.sub('별점', '', store_rating_list).replace('\\n', '')  # 별점이라는 단어 제거\n",
    "            except:\n",
    "                pass\n",
    "            print(store_rating)\n",
    "\n",
    "            # -----주소(위치)-----\n",
    "            try:\n",
    "                store_addr_list = driver.find_elements_by_css_selector('._1aj6-')\n",
    "                for i in store_addr_list:\n",
    "                    store_addr = i.find_element_by_css_selector('._1h3B_').text\n",
    "            except:\n",
    "                pass\n",
    "            print(store_addr)\n",
    "            # -----전화번호 가져오기-----\n",
    "            try:\n",
    "                store_tel = driver.find_element_by_css_selector('._3ZA0S').text\n",
    "            except:\n",
    "                pass\n",
    "\n",
    "            print(store_tel)\n",
    "\n",
    "            # -----메뉴-----\n",
    "            try:\n",
    "                menu_list = driver.find_elements_by_css_selector('._1XxR5')\n",
    "                menu_name = []  # 메뉴이름\n",
    "                menu_price = []  # 메뉴가격\n",
    "\n",
    "                for i in menu_list:\n",
    "                    name = i.find_element_by_css_selector('._1q3GD').text\n",
    "                    menu_name.append(name)\n",
    "\n",
    "                    price = i.find_element_by_css_selector('._3IAAc').text  # 텍스트를 넣을 변수 생성\n",
    "                    price = re.sub('원\\d{2},\\d{3}', '', price)  # 할인 전 가격 제거  # 재정의\n",
    "                    menu_price.append(price)  # 추가\n",
    "\n",
    "            except:\n",
    "                pass\n",
    "\n",
    "            # -----메뉴2 (다른 태그의 메뉴)-----\n",
    "            try:\n",
    "                menu_list_two = driver.find_elements_by_css_selector('._20R25')\n",
    "                menu_name_two = []\n",
    "                menu_price_two = []\n",
    "\n",
    "                for i in menu_list_two:\n",
    "                    name_two = i.find_element_by_css_selector('._2E0Gk').text\n",
    "                    name_two = re.sub('\\n사진|\\n대표', '', name_two)\n",
    "\n",
    "                    price_two = i.find_element_by_css_selector('._3GJcI').text\n",
    "\n",
    "                    menu_name_two.append(name_two)\n",
    "                    menu_price_two.append(price_two)\n",
    "\n",
    "            except:\n",
    "                pass\n",
    "\n",
    "            # 메뉴 리스트 합체\n",
    "            menus = menu_name + menu_name_two\n",
    "            prices = menu_price + menu_price_two\n",
    "\n",
    "            print(menus)\n",
    "            print(prices)\n",
    "\n",
    "\n",
    "\n",
    "            # ---- dict에 데이터 집어넣기----\n",
    "            dict_temp = {\n",
    "                'name': store_name,\n",
    "                'tel': store_tel,\n",
    "                'star': store_rating,\n",
    "                'addr': store_addr,\n",
    "                'menu': menus,\n",
    "                'price': prices,\n",
    "            }\n",
    "\n",
    "            store_dict['매장정보'].append(dict_temp)\n",
    "\n",
    "            print(f'{store_name} ...완료')\n",
    "            switch_frame('searchIframe')\n",
    "            sleep(1)\n",
    "\n",
    "        except:\n",
    "            print('ERROR!' * 3)\n",
    "            switch_frame('searchIframe')\n",
    "            sleep(1)\n",
    "\n",
    "    # 다음 페이지 버튼\n",
    "    if page[-1]:  # 마지막 매장일 경우 다음버튼 클릭\n",
    "        next_btn[-1].click()\n",
    "        sleep(2)\n",
    "    else:\n",
    "        print('페이지 인식 못함')\n",
    "        break\n",
    "\n",
    "print('[데이터 수집 완료]\\n소요 시간 :', time.time() - start)\n",
    "driver.quit()  # 작업이 끝나면 창을닫는다."
   ]
  },
  {
   "cell_type": "code",
   "execution_count": 9,
   "id": "eebfd67d",
   "metadata": {
    "scrolled": false
   },
   "outputs": [],
   "source": [
    "# json 파일로 저장\n",
    "file_path = \"\"\n",
    "with open('./store_data.json', 'w', encoding='utf-8') as f:\n",
    "    json.dump(store_dict, f, indent=4, ensure_ascii=False)"
   ]
  },
  {
   "cell_type": "code",
   "execution_count": 11,
   "id": "290c1159",
   "metadata": {},
   "outputs": [],
   "source": [
    "import pandas as pd\n",
    "df = pd.DataFrame(store_dict)"
   ]
  },
  {
   "cell_type": "code",
   "execution_count": null,
   "id": "9f64a88d",
   "metadata": {},
   "outputs": [],
   "source": []
  }
 ],
 "metadata": {
  "kernelspec": {
   "display_name": "Python 3 (ipykernel)",
   "language": "python",
   "name": "python3"
  },
  "language_info": {
   "codemirror_mode": {
    "name": "ipython",
    "version": 3
   },
   "file_extension": ".py",
   "mimetype": "text/x-python",
   "name": "python",
   "nbconvert_exporter": "python",
   "pygments_lexer": "ipython3",
   "version": "3.9.7"
  }
 },
 "nbformat": 4,
 "nbformat_minor": 5
}
