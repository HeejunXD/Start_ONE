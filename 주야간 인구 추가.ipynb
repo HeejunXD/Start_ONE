{
 "cells": [
  {
   "cell_type": "code",
   "execution_count": null,
   "id": "c11cc2f4",
   "metadata": {},
   "outputs": [],
   "source": [
    "import pandas as pd\n",
    "from sklearn.preprocessing import MinMaxScaler"
   ]
  },
  {
   "cell_type": "code",
   "execution_count": null,
   "id": "a16eb757",
   "metadata": {},
   "outputs": [],
   "source": [
    "df = pd.read_csv('cafe_df_v2.csv')"
   ]
  },
  {
   "cell_type": "code",
   "execution_count": null,
   "id": "1f92ffff",
   "metadata": {},
   "outputs": [],
   "source": [
    "df_pop=pd.read_csv('자치구단위 서울생활인구 일별 집계표.csv',encoding='cp949"
   ]
  },
  {
   "cell_type": "code",
   "execution_count": null,
   "id": "68c60a5e",
   "metadata": {},
   "outputs": [],
   "source": [
    "df_pop=df_pop[df_pop['기준일ID']>=20220611]\n",
    "df_pop=df_pop[df_pop['시군구명']!='서울시']"
   ]
  },
  {
   "cell_type": "code",
   "execution_count": null,
   "id": "72a02da9",
   "metadata": {},
   "outputs": [],
   "source": [
    "df_pop=df_pop[['기준일ID','시군구명','주간인구수(09~18)','야간인구수(19~08)']]\n",
    "df_pop.reset_index(drop=True)"
   ]
  },
  {
   "cell_type": "code",
   "execution_count": null,
   "id": "f9f482f3",
   "metadata": {},
   "outputs": [],
   "source": [
    "pop_d={}\n",
    "region=set(df_pop['시군구명'].tolist())\n",
    "for i in region:\n",
    "    parser_df=df_pop[df_pop['시군구명']==i]\n",
    "    day_pop=round(parser_df['주간인구수(09~18)'].sum()/len(parser_df),2)\n",
    "    night_pop=round(parser_df['야간인구수(19~08)'].sum()/len(parser_df),2)\n",
    "    pop_d[i]=(day_pop,night_pop)"
   ]
  },
  {
   "cell_type": "code",
   "execution_count": null,
   "id": "726427fa",
   "metadata": {},
   "outputs": [],
   "source": [
    "pop=pd.DataFrame(pop_d)\n",
    "pop=pop.transpose()\n",
    "pop.columns=['day_pop','night_pop']"
   ]
  },
  {
   "cell_type": "code",
   "execution_count": null,
   "id": "2ba73178",
   "metadata": {},
   "outputs": [],
   "source": [
    "df2=pd.DataFrame()\n",
    "for i in region:\n",
    "    df_sub=df[df['address'].str.contains(i)]\n",
    "    df_sub['day_pop']=pop.loc[i][0]\n",
    "    df_sub['day_night']=pop.loc[i][1]\n",
    "    df2=pd.concat([df2,df_sub])"
   ]
  },
  {
   "cell_type": "code",
   "execution_count": null,
   "id": "9385474b",
   "metadata": {},
   "outputs": [],
   "source": [
    "df2.reset_index(drop=True)"
   ]
  },
  {
   "cell_type": "code",
   "execution_count": null,
   "id": "629fbdb8",
   "metadata": {},
   "outputs": [],
   "source": [
    "df2.to_csv('cafe_df_v3.csv',index=False)"
   ]
  }
 ],
 "metadata": {
  "kernelspec": {
   "display_name": "Python 3 (ipykernel)",
   "language": "python",
   "name": "python3"
  },
  "language_info": {
   "codemirror_mode": {
    "name": "ipython",
    "version": 3
   },
   "file_extension": ".py",
   "mimetype": "text/x-python",
   "name": "python",
   "nbconvert_exporter": "python",
   "pygments_lexer": "ipython3",
   "version": "3.9.12"
  }
 },
 "nbformat": 4,
 "nbformat_minor": 5
}
