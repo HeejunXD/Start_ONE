{
 "cells": [
  {
   "cell_type": "code",
   "execution_count": null,
   "metadata": {
    "id": "ClxrgXx88OKN"
   },
   "outputs": [],
   "source": [
    "from haversine import haversine, Unit\n",
    "import pandas as pd\n",
    "import numpy as np"
   ]
  },
  {
   "cell_type": "code",
   "execution_count": null,
   "metadata": {},
   "outputs": [],
   "source": [
    "def return_N(station_lat, station_lon, cafe_lat, cafe_lon):\n",
    "    n=0\n",
    "    for i in range(len(station_lat)):\n",
    "        if n==0:\n",
    "            z=haversine((station_lat[i],station_lon[i]),(cafe_lat,cafe_lon),unit='m')\n",
    "            n=1\n",
    "        else:\n",
    "            z_sub=haversine((station_lat[i],station_lon[i]),(cafe_lat,cafe_lon),unit='m')\n",
    "            if z>z_sub:\n",
    "                z=z_sub\n",
    "    return round(z,2)"
   ]
  },
  {
   "cell_type": "code",
   "execution_count": null,
   "metadata": {},
   "outputs": [],
   "source": [
    "df_station=pd.read_csv('./data/지하철역_좌표.csv')\n",
    "df_station.drop(['Unnamed: 0'],axis=1,inplace=True)\n",
    "df_station=df_station.transpose()\n",
    "df_station.columns=['lat','lon']"
   ]
  },
  {
   "cell_type": "code",
   "execution_count": null,
   "metadata": {},
   "outputs": [],
   "source": [
    "station_lat=df_station['lat'].tolist()\n",
    "station_lon=df_station['lon'].tolist()"
   ]
  },
  {
   "cell_type": "code",
   "execution_count": null,
   "metadata": {
    "id": "SurW_x9NIOhx"
   },
   "outputs": [],
   "source": [
    "df_cafe=pd.read_csv('cafe_df.csv')\n",
    "df_cafe=df_cafe.iloc[:,2:]\n",
    "cafe_lat=df_cafe['latitude'].tolist()\n",
    "cafe_lon=df_cafe['longitude'].tolist()"
   ]
  },
  {
   "cell_type": "code",
   "execution_count": null,
   "metadata": {},
   "outputs": [],
   "source": [
    "station_d=[]\n",
    "for j in range(len(cafe_lat)):\n",
    "    d=return_N(station_lat,station_lon,cafe_lat[j],cafe_lon[j])\n",
    "    station_d.append(d)\n",
    "station_d\n",
    "df_cafe['subway_d']=station_d"
   ]
  },
  {
   "cell_type": "code",
   "execution_count": null,
   "metadata": {},
   "outputs": [],
   "source": [
    "df_cafe.to_csv('cafe_df_v2.csv',index=False)"
   ]
  }
 ],
 "metadata": {
  "colab": {
   "name": "좌표.ipynb",
   "provenance": []
  },
  "kernelspec": {
   "display_name": "Python 3 (ipykernel)",
   "language": "python",
   "name": "python3"
  },
  "language_info": {
   "codemirror_mode": {
    "name": "ipython",
    "version": 3
   },
   "file_extension": ".py",
   "mimetype": "text/x-python",
   "name": "python",
   "nbconvert_exporter": "python",
   "pygments_lexer": "ipython3",
   "version": "3.9.12"
  }
 },
 "nbformat": 4,
 "nbformat_minor": 1
}
