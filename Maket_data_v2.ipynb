{
 "cells": [
  {
   "cell_type": "code",
   "execution_count": null,
   "id": "b471e0fe",
   "metadata": {},
   "outputs": [],
   "source": [
    "import pandas as pd"
   ]
  },
  {
   "cell_type": "code",
   "execution_count": null,
   "id": "71082926",
   "metadata": {},
   "outputs": [],
   "source": [
    "def read_market_data(n):\n",
    "    if n==2020:\n",
    "        return pd.read_csv(f\"./data/서울시 우리마을가게 상권분석서비스(상권-추정매출)_{n}년.csv\", sep=\",\", encoding='utf-8')\n",
    "    else:\n",
    "        return pd.read_csv(f\"./data/서울시 우리마을가게 상권분석서비스(상권-추정매출)_{n}년.csv\", sep=\",\", encoding='cp949')"
   ]
  },
  {
   "cell_type": "code",
   "execution_count": null,
   "id": "032857f0",
   "metadata": {},
   "outputs": [],
   "source": [
    "def annual_sales(df):# 연 평균 매출액\n",
    "    return df['분기당_매출_금액'].sum() / df['점포수'].sum()"
   ]
  },
  {
   "cell_type": "code",
   "execution_count": null,
   "id": "2c8d461b",
   "metadata": {},
   "outputs": [],
   "source": [
    "def num_orders(df): #연 평균 주문 건수\n",
    "    return df['분기당_매출_건수'].sum() / df['점포수'].sum()"
   ]
  },
  {
   "cell_type": "code",
   "execution_count": null,
   "id": "89864597",
   "metadata": {},
   "outputs": [],
   "source": [
    "def gather(code, name):\n",
    "    df_sample1 = business[business['ADSTRD_CD']==int(code)]\n",
    "    df_sample2 = df_sample1['TRDAR_CD'].tolist()\n",
    "\n",
    "    df_sample3 = ['CS100001', 'CS100002', 'CS100003', 'CS100004', 'CS100005', 'CS100006',\n",
    "                  'CS100007', 'CS100008', 'CS100009', 'CS100010'] # 서비스 업종 코드\n",
    "\n",
    "    all_df = pd.DataFrame()\n",
    "\n",
    "    df_kor = pd.DataFrame()\n",
    "    df_ch = pd.DataFrame()\n",
    "    df_jap = pd.DataFrame()\n",
    "    df_usa = pd.DataFrame()\n",
    "    df_bake = pd.DataFrame()\n",
    "    df_fast = pd.DataFrame()\n",
    "    df_chicken = pd.DataFrame()\n",
    "    df_snack = pd.DataFrame()\n",
    "    df_alcoho = pd.DataFrame()\n",
    "    df_coffee = pd.DataFrame()\n",
    "\n",
    "\n",
    "#     for i in df_sample2:\n",
    "#         for j in df_sample3:\n",
    "#             all_df = pd.concat([all_df, market[(market['상권_코드']==i) & (market['서비스_업종_코드']==j)]])\n",
    "\n",
    "    for i in df_sample2:\n",
    "        df_kor = pd.concat([df_kor, market[(market['상권_코드']==i) & (market['서비스_업종_코드']==df_sample3[0])]])\n",
    "        df_ch = pd.concat([df_ch, market[(market['상권_코드']==i) & (market['서비스_업종_코드']==df_sample3[1])]])\n",
    "        df_jap = pd.concat([df_jap, market[(market['상권_코드']==i) & (market['서비스_업종_코드']==df_sample3[2])]])\n",
    "        df_usa = pd.concat([df_usa , market[(market['상권_코드']==i) & (market['서비스_업종_코드']==df_sample3[3])]])\n",
    "        df_bake = pd.concat([df_bake , market[(market['상권_코드']==i) & (market['서비스_업종_코드']==df_sample3[4])]])\n",
    "        df_fast = pd.concat([df_fast, market[(market['상권_코드']==i) & (market['서비스_업종_코드']==df_sample3[5])]])\n",
    "        df_chicken = pd.concat([df_chicken, market[(market['상권_코드']==i) & (market['서비스_업종_코드']==df_sample3[6])]])\n",
    "        df_snack = pd.concat([df_snack, market[(market['상권_코드']==i) & (market['서비스_업종_코드']==df_sample3[7])]])\n",
    "        df_alcoho = pd.concat([df_alcoho, market[(market['상권_코드']==i) & (market['서비스_업종_코드']==df_sample3[8])]])\n",
    "        df_coffee = pd.concat([df_coffee, market[(market['상권_코드']==i) & (market['서비스_업종_코드']==df_sample3[9])]]) \n",
    "\n",
    "    df1 = pd.DataFrame({'분류': ['한식', '중식', '일식', '양식', '제과점', '패스트푸드점', '치킨전문점', '분식', '호프', '커피'],\n",
    "                  f'{name}': [annual_sales(df_kor), annual_sales(df_ch), annual_sales(df_jap), annual_sales(df_usa), annual_sales(df_bake), annual_sales(df_fast), annual_sales(df_chicken), annual_sales(df_snack), annual_sales(df_alcoho), annual_sales(df_coffee)]})\n",
    "    df2 = pd.DataFrame({'분류': ['한식', '중식', '일식', '양식', '제과점', '패스트푸드점', '치킨전문점', '분식', '호프', '커피'],\n",
    "                        f'{name}': [num_orders(df_kor), num_orders(df_ch), num_orders(df_jap), num_orders(df_usa), num_orders(df_bake), num_orders(df_fast), num_orders(df_chicken), num_orders(df_snack), num_orders(df_alcoho), num_orders(df_coffee)]})\n",
    "    \n",
    "    return df1, df2"
   ]
  },
  {
   "cell_type": "code",
   "execution_count": null,
   "id": "da23bb91",
   "metadata": {},
   "outputs": [],
   "source": [
    "region = pd.read_csv(\"./data/행정동코드.csv\", sep=\",\")\n",
    "business = pd.read_csv(\"./data/행정동_상권_구.csv\", sep=\",\", encoding='cp949')"
   ]
  },
  {
   "cell_type": "code",
   "execution_count": null,
   "id": "e83cd7dd",
   "metadata": {},
   "outputs": [],
   "source": [
    "df_sample11 = region[region['시군구명'].str.contains('마포구')]\n",
    "df_sample22 = pd.DataFrame({'행정동' : df_sample11['행정동명'].values.tolist(), '코드' : df_sample11['행자부행정동코드'].values.tolist() })\n",
    "code_list=list(zip(df_sample22['행정동'].tolist(),df_sample22['코드'].tolist()))"
   ]
  },
  {
   "cell_type": "code",
   "execution_count": null,
   "id": "ac1129c7",
   "metadata": {
    "scrolled": true
   },
   "outputs": [],
   "source": [
    "for year in range(2014,2022):\n",
    "    market=read_market_data(year)\n",
    "    n=1\n",
    "    for name,code in code_list:\n",
    "        if n==1:\n",
    "            df1, df2 = gather(code, name)\n",
    "            n=0\n",
    "        else:\n",
    "            df1_sub, df2_sub = gather(code, name)\n",
    "            df1=pd.concat([df1,df1_sub.iloc[:,1]],axis=1)\n",
    "            df2=pd.concat([df2,df2_sub.iloc[:,1]],axis=1)\n",
    "    df1.to_csv(f\"./data/매출건수_평균/마포구_동별_연평균매출액{year}.csv\",mode=\"w\",encoding='euc-kr',index=False)\n",
    "    df2.to_csv(f\"./data/매출건수_평균/마포구_동별_연평균주문건수{year}.csv\",mode=\"w\",encoding='euc-kr',index=False)"
   ]
  }
 ],
 "metadata": {
  "kernelspec": {
   "display_name": "Python 3 (ipykernel)",
   "language": "python",
   "name": "python3"
  },
  "language_info": {
   "codemirror_mode": {
    "name": "ipython",
    "version": 3
   },
   "file_extension": ".py",
   "mimetype": "text/x-python",
   "name": "python",
   "nbconvert_exporter": "python",
   "pygments_lexer": "ipython3",
   "version": "3.9.12"
  }
 },
 "nbformat": 4,
 "nbformat_minor": 5
}
