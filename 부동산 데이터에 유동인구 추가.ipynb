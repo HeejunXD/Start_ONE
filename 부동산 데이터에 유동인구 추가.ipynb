{
 "cells": [
  {
   "cell_type": "code",
   "execution_count": null,
   "id": "7c6346a9",
   "metadata": {},
   "outputs": [],
   "source": [
    "import requests\n",
    "import pandas as pd\n",
    "import numpy as np"
   ]
  },
  {
   "cell_type": "code",
   "execution_count": null,
   "id": "210a0e4b",
   "metadata": {},
   "outputs": [],
   "source": [
    "df=pd.read_csv('연남동 부동산.csv')"
   ]
  },
  {
   "cell_type": "code",
   "execution_count": null,
   "id": "c838ab6e",
   "metadata": {
    "scrolled": false
   },
   "outputs": [],
   "source": [
    "flow_pop=[]\n",
    "for i in range(len(df)):\n",
    "    row=df.loc[i]\n",
    "    y_axis=row['latitude']\n",
    "    x_axis=row['longitude']\n",
    "    url = f'https://www.nicebizmap.co.kr/util/readData.jsp?LF=nice.Analyse&LID=getMapControl&sql_type=flowpop&x_axis={x_axis}&y_axis={y_axis}&radius=250&readType=json'\n",
    "    response=requests.get(url)\n",
    "    data=response.json()\n",
    "    data=data['flowpop']\n",
    "    result=[]\n",
    "    i=0\n",
    "    for flow in data:\n",
    "        x=float(flow['x_axis'])-float(x_axis)\n",
    "        y=float(flow['y_axis'])-float(y_axis)\n",
    "        result.append([abs(x)+abs(y),flow['flow_pop']])\n",
    "    result.sort()\n",
    "    result=result[0][1]\n",
    "    flow_pop.append(result)"
   ]
  },
  {
   "cell_type": "code",
   "execution_count": null,
   "id": "976303e3",
   "metadata": {},
   "outputs": [],
   "source": [
    "df_sub=pd.DataFrame({'flow_pop':flow_pop})\n",
    "df=pd.concat([df,df_sub],axis=1)"
   ]
  },
  {
   "cell_type": "code",
   "execution_count": null,
   "id": "a3c988ae",
   "metadata": {},
   "outputs": [],
   "source": [
    "df.to_csv('연남동 부동산 유동인구.csv', index=False)"
   ]
  }
 ],
 "metadata": {
  "kernelspec": {
   "display_name": "Python 3 (ipykernel)",
   "language": "python",
   "name": "python3"
  },
  "language_info": {
   "codemirror_mode": {
    "name": "ipython",
    "version": 3
   },
   "file_extension": ".py",
   "mimetype": "text/x-python",
   "name": "python",
   "nbconvert_exporter": "python",
   "pygments_lexer": "ipython3",
   "version": "3.9.12"
  }
 },
 "nbformat": 4,
 "nbformat_minor": 5
}
