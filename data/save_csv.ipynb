{
 "cells": [
  {
   "cell_type": "code",
   "execution_count": 2,
   "id": "b471e0fe",
   "metadata": {
    "id": "b471e0fe"
   },
   "outputs": [],
   "source": [
    "import pandas as pd"
   ]
  },
  {
   "cell_type": "code",
   "execution_count": 3,
   "id": "754f24d9",
   "metadata": {
    "id": "754f24d9"
   },
   "outputs": [],
   "source": [
    "region = pd.read_csv(\"행정동코드.csv\", sep=\",\")\n",
    "business = pd.read_csv(\"행정동-상권csv.csv\", sep=\",\", encoding='cp949')\n",
    "market = pd.read_csv(\"서울시_우리마을가게_상권분석서비스.csv\", sep=\",\", encoding='cp949')"
   ]
  },
  {
   "cell_type": "code",
   "execution_count": 4,
   "id": "e78bf76c",
   "metadata": {
    "colab": {
     "base_uri": "https://localhost:8080/",
     "height": 551
    },
    "id": "e78bf76c",
    "outputId": "b64a7d90-d05e-4096-d6e2-59695d45ba88"
   },
   "outputs": [
    {
     "data": {
      "text/html": [
       "<div>\n",
       "<style scoped>\n",
       "    .dataframe tbody tr th:only-of-type {\n",
       "        vertical-align: middle;\n",
       "    }\n",
       "\n",
       "    .dataframe tbody tr th {\n",
       "        vertical-align: top;\n",
       "    }\n",
       "\n",
       "    .dataframe thead th {\n",
       "        text-align: right;\n",
       "    }\n",
       "</style>\n",
       "<table border=\"1\" class=\"dataframe\">\n",
       "  <thead>\n",
       "    <tr style=\"text-align: right;\">\n",
       "      <th></th>\n",
       "      <th>행정동</th>\n",
       "      <th>코드</th>\n",
       "    </tr>\n",
       "  </thead>\n",
       "  <tbody>\n",
       "    <tr>\n",
       "      <th>0</th>\n",
       "      <td>용강동</td>\n",
       "      <td>11440590</td>\n",
       "    </tr>\n",
       "    <tr>\n",
       "      <th>1</th>\n",
       "      <td>대흥동</td>\n",
       "      <td>11440600</td>\n",
       "    </tr>\n",
       "    <tr>\n",
       "      <th>2</th>\n",
       "      <td>염리동</td>\n",
       "      <td>11440610</td>\n",
       "    </tr>\n",
       "    <tr>\n",
       "      <th>3</th>\n",
       "      <td>신수동</td>\n",
       "      <td>11440630</td>\n",
       "    </tr>\n",
       "    <tr>\n",
       "      <th>4</th>\n",
       "      <td>서교동</td>\n",
       "      <td>11440660</td>\n",
       "    </tr>\n",
       "    <tr>\n",
       "      <th>5</th>\n",
       "      <td>합정동</td>\n",
       "      <td>11440680</td>\n",
       "    </tr>\n",
       "    <tr>\n",
       "      <th>6</th>\n",
       "      <td>망원1동</td>\n",
       "      <td>11440690</td>\n",
       "    </tr>\n",
       "    <tr>\n",
       "      <th>7</th>\n",
       "      <td>망원2동</td>\n",
       "      <td>11440700</td>\n",
       "    </tr>\n",
       "    <tr>\n",
       "      <th>8</th>\n",
       "      <td>연남동</td>\n",
       "      <td>11440710</td>\n",
       "    </tr>\n",
       "    <tr>\n",
       "      <th>9</th>\n",
       "      <td>성산1동</td>\n",
       "      <td>11440720</td>\n",
       "    </tr>\n",
       "    <tr>\n",
       "      <th>10</th>\n",
       "      <td>성산2동</td>\n",
       "      <td>11440730</td>\n",
       "    </tr>\n",
       "    <tr>\n",
       "      <th>11</th>\n",
       "      <td>상암동</td>\n",
       "      <td>11440740</td>\n",
       "    </tr>\n",
       "    <tr>\n",
       "      <th>12</th>\n",
       "      <td>도화동</td>\n",
       "      <td>11440585</td>\n",
       "    </tr>\n",
       "    <tr>\n",
       "      <th>13</th>\n",
       "      <td>서강동</td>\n",
       "      <td>11440655</td>\n",
       "    </tr>\n",
       "    <tr>\n",
       "      <th>14</th>\n",
       "      <td>공덕동</td>\n",
       "      <td>11440565</td>\n",
       "    </tr>\n",
       "    <tr>\n",
       "      <th>15</th>\n",
       "      <td>아현동</td>\n",
       "      <td>11440555</td>\n",
       "    </tr>\n",
       "  </tbody>\n",
       "</table>\n",
       "</div>"
      ],
      "text/plain": [
       "     행정동        코드\n",
       "0    용강동  11440590\n",
       "1    대흥동  11440600\n",
       "2    염리동  11440610\n",
       "3    신수동  11440630\n",
       "4    서교동  11440660\n",
       "5    합정동  11440680\n",
       "6   망원1동  11440690\n",
       "7   망원2동  11440700\n",
       "8    연남동  11440710\n",
       "9   성산1동  11440720\n",
       "10  성산2동  11440730\n",
       "11   상암동  11440740\n",
       "12   도화동  11440585\n",
       "13   서강동  11440655\n",
       "14   공덕동  11440565\n",
       "15   아현동  11440555"
      ]
     },
     "execution_count": 4,
     "metadata": {},
     "output_type": "execute_result"
    }
   ],
   "source": [
    "# 마포구 자리에 구 입력\n",
    "df_sample11 = region[region['시군구명'].str.contains('마포구')]\n",
    "df_sample22 = pd.DataFrame({'행정동' : df_sample11['행정동명'].values.tolist(), '코드' : df_sample11['행자부행정동코드'].values.tolist() })\n",
    "\n",
    "df_sample22"
   ]
  },
  {
   "cell_type": "code",
   "execution_count": 5,
   "id": "JMqKwtvmOI4H",
   "metadata": {
    "id": "JMqKwtvmOI4H"
   },
   "outputs": [],
   "source": [
    "df_sample1 = business[business['행정동_코드']==11440590]\n",
    "df_sample2 = df_sample1['상권_코드'].tolist()"
   ]
  },
  {
   "cell_type": "code",
   "execution_count": 8,
   "id": "2p6T8Kc7et6-",
   "metadata": {
    "id": "2p6T8Kc7et6-"
   },
   "outputs": [],
   "source": [
    "def save_csv(name, list_code):\n",
    "  df_kor = pd.DataFrame()\n",
    "  df_ch = pd.DataFrame()\n",
    "  df_jap = pd.DataFrame()\n",
    "  df_usa = pd.DataFrame()\n",
    "  df_bake = pd.DataFrame()\n",
    "  df_fast = pd.DataFrame()\n",
    "  df_chicken = pd.DataFrame()\n",
    "  df_snack = pd.DataFrame()\n",
    "  df_alcoho = pd.DataFrame()\n",
    "  df_coffee = pd.DataFrame()\n",
    "  df_sample3 = ['CS100001', 'CS100002', 'CS100003', 'CS100004', 'CS100005', 'CS100006','CS100007', 'CS100008', 'CS100009', 'CS100010']\n",
    "  for i in list_code:\n",
    "    df_kor = pd.concat([df_kor, market[(market['상권_코드']==i) & (market['서비스_업종_코드']==df_sample3[0])]])\n",
    "    df_ch = pd.concat([df_ch, market[(market['상권_코드']==i) & (market['서비스_업종_코드']==df_sample3[1])]])\n",
    "    df_jap = pd.concat([df_jap, market[(market['상권_코드']==i) & (market['서비스_업종_코드']==df_sample3[2])]])\n",
    "    df_usa = pd.concat([df_usa , market[(market['상권_코드']==i) & (market['서비스_업종_코드']==df_sample3[3])]])\n",
    "    df_bake = pd.concat([df_bake , market[(market['상권_코드']==i) & (market['서비스_업종_코드']==df_sample3[4])]])\n",
    "    df_fast = pd.concat([df_fast, market[(market['상권_코드']==i) & (market['서비스_업종_코드']==df_sample3[5])]])\n",
    "    df_chicken = pd.concat([df_chicken, market[(market['상권_코드']==i) & (market['서비스_업종_코드']==df_sample3[6])]])\n",
    "    df_snack = pd.concat([df_snack, market[(market['상권_코드']==i) & (market['서비스_업종_코드']==df_sample3[7])]])\n",
    "    df_alcoho = pd.concat([df_alcoho, market[(market['상권_코드']==i) & (market['서비스_업종_코드']==df_sample3[8])]])\n",
    "    df_coffee = pd.concat([df_coffee, market[(market['상권_코드']==i) & (market['서비스_업종_코드']==df_sample3[9])]])\n",
    "\n",
    "  df_kor.to_csv(f'{name}_한식.csv')\n",
    "  df_ch.to_csv(f'{name}_중식.csv')\n",
    "  df_jap.to_csv(f'{name}_일식.csv')\n",
    "  df_usa.to_csv(f'{name}_양식.csv')\n",
    "  df_bake.to_csv(f'{name}_베이커리.csv')\n",
    "  df_fast.to_csv(f'{name}_패스트푸드.csv')\n",
    "  df_chicken.to_csv(f'{name}_치킨.csv')\n",
    "  df_snack.to_csv(f'{name}_분식.csv')\n",
    "  df_alcoho.to_csv(f'{name}_주점.csv')\n",
    "  df_coffee.to_csv(f'{name}_커피.csv')"
   ]
  },
  {
   "cell_type": "code",
   "execution_count": 9,
   "id": "nUHXGUZcgwih",
   "metadata": {
    "id": "nUHXGUZcgwih"
   },
   "outputs": [],
   "source": [
    "save_csv('용강동', df_sample2 )"
   ]
  },
  {
   "cell_type": "code",
   "execution_count": null,
   "id": "2ff593ac",
   "metadata": {},
   "outputs": [],
   "source": []
  }
 ],
 "metadata": {
  "colab": {
   "name": "save_csv.ipynb",
   "provenance": []
  },
  "kernelspec": {
   "display_name": "soo",
   "language": "python",
   "name": "soo"
  },
  "language_info": {
   "codemirror_mode": {
    "name": "ipython",
    "version": 3
   },
   "file_extension": ".py",
   "mimetype": "text/x-python",
   "name": "python",
   "nbconvert_exporter": "python",
   "pygments_lexer": "ipython3",
   "version": "3.9.7"
  }
 },
 "nbformat": 4,
 "nbformat_minor": 5
}
