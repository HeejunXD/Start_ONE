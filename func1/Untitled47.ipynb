{
  "nbformat": 4,
  "nbformat_minor": 0,
  "metadata": {
    "colab": {
      "name": "Untitled47.ipynb",
      "provenance": []
    },
    "kernelspec": {
      "name": "python3",
      "display_name": "Python 3"
    },
    "language_info": {
      "name": "python"
    }
  },
  "cells": [
    {
      "cell_type": "code",
      "execution_count": 1,
      "metadata": {
        "id": "yWGDUiAPdAc7"
      },
      "outputs": [],
      "source": [
        "import pandas as pd"
      ]
    },
    {
      "cell_type": "code",
      "source": [
        "df = pd.DataFrame(columns=['dong', 'food', 'func', 'set', 'data'])\n",
        "df"
      ],
      "metadata": {
        "colab": {
          "base_uri": "https://localhost:8080/",
          "height": 49
        },
        "id": "DBbLcH65dr9k",
        "outputId": "9cd14db6-07c7-4599-da25-c888ef4d5899"
      },
      "execution_count": 2,
      "outputs": [
        {
          "output_type": "execute_result",
          "data": {
            "text/plain": [
              "Empty DataFrame\n",
              "Columns: [dong, food, func, set, data]\n",
              "Index: []"
            ],
            "text/html": [
              "\n",
              "  <div id=\"df-308f64cc-e2f8-4d33-9aff-a602d8ebf977\">\n",
              "    <div class=\"colab-df-container\">\n",
              "      <div>\n",
              "<style scoped>\n",
              "    .dataframe tbody tr th:only-of-type {\n",
              "        vertical-align: middle;\n",
              "    }\n",
              "\n",
              "    .dataframe tbody tr th {\n",
              "        vertical-align: top;\n",
              "    }\n",
              "\n",
              "    .dataframe thead th {\n",
              "        text-align: right;\n",
              "    }\n",
              "</style>\n",
              "<table border=\"1\" class=\"dataframe\">\n",
              "  <thead>\n",
              "    <tr style=\"text-align: right;\">\n",
              "      <th></th>\n",
              "      <th>dong</th>\n",
              "      <th>food</th>\n",
              "      <th>func</th>\n",
              "      <th>set</th>\n",
              "      <th>data</th>\n",
              "    </tr>\n",
              "  </thead>\n",
              "  <tbody>\n",
              "  </tbody>\n",
              "</table>\n",
              "</div>\n",
              "      <button class=\"colab-df-convert\" onclick=\"convertToInteractive('df-308f64cc-e2f8-4d33-9aff-a602d8ebf977')\"\n",
              "              title=\"Convert this dataframe to an interactive table.\"\n",
              "              style=\"display:none;\">\n",
              "        \n",
              "  <svg xmlns=\"http://www.w3.org/2000/svg\" height=\"24px\"viewBox=\"0 0 24 24\"\n",
              "       width=\"24px\">\n",
              "    <path d=\"M0 0h24v24H0V0z\" fill=\"none\"/>\n",
              "    <path d=\"M18.56 5.44l.94 2.06.94-2.06 2.06-.94-2.06-.94-.94-2.06-.94 2.06-2.06.94zm-11 1L8.5 8.5l.94-2.06 2.06-.94-2.06-.94L8.5 2.5l-.94 2.06-2.06.94zm10 10l.94 2.06.94-2.06 2.06-.94-2.06-.94-.94-2.06-.94 2.06-2.06.94z\"/><path d=\"M17.41 7.96l-1.37-1.37c-.4-.4-.92-.59-1.43-.59-.52 0-1.04.2-1.43.59L10.3 9.45l-7.72 7.72c-.78.78-.78 2.05 0 2.83L4 21.41c.39.39.9.59 1.41.59.51 0 1.02-.2 1.41-.59l7.78-7.78 2.81-2.81c.8-.78.8-2.07 0-2.86zM5.41 20L4 18.59l7.72-7.72 1.47 1.35L5.41 20z\"/>\n",
              "  </svg>\n",
              "      </button>\n",
              "      \n",
              "  <style>\n",
              "    .colab-df-container {\n",
              "      display:flex;\n",
              "      flex-wrap:wrap;\n",
              "      gap: 12px;\n",
              "    }\n",
              "\n",
              "    .colab-df-convert {\n",
              "      background-color: #E8F0FE;\n",
              "      border: none;\n",
              "      border-radius: 50%;\n",
              "      cursor: pointer;\n",
              "      display: none;\n",
              "      fill: #1967D2;\n",
              "      height: 32px;\n",
              "      padding: 0 0 0 0;\n",
              "      width: 32px;\n",
              "    }\n",
              "\n",
              "    .colab-df-convert:hover {\n",
              "      background-color: #E2EBFA;\n",
              "      box-shadow: 0px 1px 2px rgba(60, 64, 67, 0.3), 0px 1px 3px 1px rgba(60, 64, 67, 0.15);\n",
              "      fill: #174EA6;\n",
              "    }\n",
              "\n",
              "    [theme=dark] .colab-df-convert {\n",
              "      background-color: #3B4455;\n",
              "      fill: #D2E3FC;\n",
              "    }\n",
              "\n",
              "    [theme=dark] .colab-df-convert:hover {\n",
              "      background-color: #434B5C;\n",
              "      box-shadow: 0px 1px 3px 1px rgba(0, 0, 0, 0.15);\n",
              "      filter: drop-shadow(0px 1px 2px rgba(0, 0, 0, 0.3));\n",
              "      fill: #FFFFFF;\n",
              "    }\n",
              "  </style>\n",
              "\n",
              "      <script>\n",
              "        const buttonEl =\n",
              "          document.querySelector('#df-308f64cc-e2f8-4d33-9aff-a602d8ebf977 button.colab-df-convert');\n",
              "        buttonEl.style.display =\n",
              "          google.colab.kernel.accessAllowed ? 'block' : 'none';\n",
              "\n",
              "        async function convertToInteractive(key) {\n",
              "          const element = document.querySelector('#df-308f64cc-e2f8-4d33-9aff-a602d8ebf977');\n",
              "          const dataTable =\n",
              "            await google.colab.kernel.invokeFunction('convertToInteractive',\n",
              "                                                     [key], {});\n",
              "          if (!dataTable) return;\n",
              "\n",
              "          const docLinkHtml = 'Like what you see? Visit the ' +\n",
              "            '<a target=\"_blank\" href=https://colab.research.google.com/notebooks/data_table.ipynb>data table notebook</a>'\n",
              "            + ' to learn more about interactive tables.';\n",
              "          element.innerHTML = '';\n",
              "          dataTable['output_type'] = 'display_data';\n",
              "          await google.colab.output.renderOutput(dataTable, element);\n",
              "          const docLink = document.createElement('div');\n",
              "          docLink.innerHTML = docLinkHtml;\n",
              "          element.appendChild(docLink);\n",
              "        }\n",
              "      </script>\n",
              "    </div>\n",
              "  </div>\n",
              "  "
            ]
          },
          "metadata": {},
          "execution_count": 2
        }
      ]
    },
    {
      "cell_type": "code",
      "source": [
        "dong_list = ['공덕동', '아현동', '도화동', '용강동', '대흥동', '염리동', '신수동', '서강동', '서교동', '합정동', '망원1동', '망원2동', '연남동', '성산1동', '성산2동', '상암동']"
      ],
      "metadata": {
        "id": "wMkZJ8Uxd9EE"
      },
      "execution_count": 3,
      "outputs": []
    },
    {
      "cell_type": "code",
      "source": [
        "food_list = ['한식', '중식', '일식', '양식', '베이커리', '패스트푸드', '치킨', '분식', '주점', '카페']"
      ],
      "metadata": {
        "id": "jiP2p7NHgZFG"
      },
      "execution_count": 4,
      "outputs": []
    },
    {
      "cell_type": "code",
      "source": [
        "def gender_def(i, df_1):\n",
        "  df_11 = pd.DataFrame(columns=['dong', 'food', 'func', 'set', 'data'])\n",
        "  dong_code = dong_list.index(i)\n",
        "  func_code = 4\n",
        "  for j in food_list:\n",
        "    food_code = food_list.index(j)\n",
        "    for k in [0,1]:\n",
        "      set_code = k\n",
        "      data_code = df_1.iloc[k][food_code+1]\n",
        "      new_data = {'dong':dong_code, 'food':food_code, 'func':func_code, 'set': set_code, 'data': data_code}\n",
        "      df_11 = df_11.append(new_data, ignore_index=True)\n",
        "  return df_11"
      ],
      "metadata": {
        "id": "gernLwkUf71u"
      },
      "execution_count": 5,
      "outputs": []
    },
    {
      "cell_type": "code",
      "source": [
        "\n",
        "def time_won(i, df_1):\n",
        "  df_11 = pd.DataFrame(columns=['dong', 'food', 'func', 'set', 'data'])\n",
        "  dong_code = dong_list.index(i)\n",
        "  func_code = 32\n",
        "  for j in food_list:\n",
        "    food_code = food_list.index(j)\n",
        "    for k in range(0, 6):\n",
        "      set_code = k\n",
        "      data_code = df_1.iloc[k][food_code+1]\n",
        "      new_data = {'dong':dong_code, 'food':food_code, 'func':func_code, 'set': set_code, 'data': data_code}\n",
        "      df_11 = df_11.append(new_data, ignore_index=True)\n",
        "  return df_11"
      ],
      "metadata": {
        "id": "RSqA7fpjLcV1"
      },
      "execution_count": 6,
      "outputs": []
    },
    {
      "cell_type": "code",
      "source": [
        "def time_n(i, df_1):\n",
        "  df_11 = pd.DataFrame(columns=['dong', 'food', 'func', 'set', 'data'])\n",
        "  dong_code = dong_list.index(i)\n",
        "  func_code = 31\n",
        "  for j in food_list:\n",
        "    food_code = food_list.index(j)\n",
        "    for k in range(0, 6):\n",
        "      set_code = k\n",
        "      data_code = df_1.iloc[k][food_code+1]\n",
        "      new_data = {'dong':dong_code, 'food':food_code, 'func':func_code, 'set': set_code, 'data': data_code}\n",
        "      df_11 = df_11.append(new_data, ignore_index=True)\n",
        "  return df_11"
      ],
      "metadata": {
        "id": "2k1ZUBMCMvXb"
      },
      "execution_count": 7,
      "outputs": []
    },
    {
      "cell_type": "code",
      "source": [
        "def week_won(i, df_1):\n",
        "  df_11 = pd.DataFrame(columns=['dong', 'food', 'func', 'set', 'data'])\n",
        "  dong_code = dong_list.index(i)\n",
        "  func_code = 22\n",
        "  for j in food_list:\n",
        "    food_code = food_list.index(j)\n",
        "    for k in range(0, 7):\n",
        "      set_code = k\n",
        "      data_code = df_1.iloc[k][food_code+1]\n",
        "      new_data = {'dong':dong_code, 'food':food_code, 'func':func_code, 'set': set_code, 'data': data_code}\n",
        "      df_11 = df_11.append(new_data, ignore_index=True)\n",
        "  return df_11"
      ],
      "metadata": {
        "id": "NzLX_GL7Myp4"
      },
      "execution_count": 8,
      "outputs": []
    },
    {
      "cell_type": "code",
      "source": [
        "def week_n(i, df_1):\n",
        "  df_11 = pd.DataFrame(columns=['dong', 'food', 'func', 'set', 'data'])\n",
        "  dong_code = dong_list.index(i)\n",
        "  func_code = 21\n",
        "  for j in food_list:\n",
        "    food_code = food_list.index(j)\n",
        "    for k in range(0, 7):\n",
        "      set_code = k\n",
        "      data_code = df_1.iloc[k][food_code+1]\n",
        "      new_data = {'dong':dong_code, 'food':food_code, 'func':func_code, 'set': set_code, 'data': data_code}\n",
        "      df_11 = df_11.append(new_data, ignore_index=True)\n",
        "  return df_11"
      ],
      "metadata": {
        "id": "ULTk06IBM6Yt"
      },
      "execution_count": 10,
      "outputs": []
    },
    {
      "cell_type": "code",
      "source": [
        "def age_won(i, df_1):\n",
        "  df_11 = pd.DataFrame(columns=['dong', 'food', 'func', 'set', 'data'])\n",
        "  dong_code = dong_list.index(i)\n",
        "  func_code = 12\n",
        "  for j in food_list:\n",
        "    food_code = food_list.index(j)\n",
        "    for k in range(0, 6):\n",
        "      set_code = k\n",
        "      data_code = df_1.iloc[k][food_code+1]\n",
        "      new_data = {'dong':dong_code, 'food':food_code, 'func':func_code, 'set': set_code, 'data': data_code}\n",
        "      df_11 = df_11.append(new_data, ignore_index=True)\n",
        "  return df_11"
      ],
      "metadata": {
        "id": "1QEKj9osM9fi"
      },
      "execution_count": 11,
      "outputs": []
    },
    {
      "cell_type": "code",
      "source": [
        "def age_n(i, df_1):\n",
        "  df_11 = pd.DataFrame(columns=['dong', 'food', 'func', 'set', 'data'])\n",
        "  dong_code = dong_list.index(i)\n",
        "  func_code = 11\n",
        "  for j in food_list:\n",
        "    food_code = food_list.index(j)\n",
        "    for k in range(0, 6):\n",
        "      set_code = k\n",
        "      data_code = df_1.iloc[k][food_code+1]\n",
        "      new_data = {'dong':dong_code, 'food':food_code, 'func':func_code, 'set': set_code, 'data': data_code}\n",
        "      df_11 = df_11.append(new_data, ignore_index=True)\n",
        "  return df_11"
      ],
      "metadata": {
        "id": "-iMvr5pyNCCT"
      },
      "execution_count": 12,
      "outputs": []
    },
    {
      "cell_type": "code",
      "source": [
        "for i in dong_list:\n",
        "  df_sample1 = pd.read_csv(f'{i}_성별 매출 비율')\n",
        "  df = df.append(gender_def(i, df_sample1)) \n",
        "  df_sample2 = pd.read_csv(f'{i}_시간대 별 매출 금액')\n",
        "  df = df.append(time_won(i, df_sample2))\n",
        "  df_sample3 = pd.read_csv(f'{i}_시간대 별 매출 건수')\n",
        "  df = df.append(time_n(i, df_sample3)) \n",
        "  df_sample4 = pd.read_csv(f'{i}_연령대 별 매출 금액')\n",
        "  df = df.append(age_won(i, df_sample4)) \n",
        "  df_sample5 = pd.read_csv(f'{i}_연령대 별 매출 건수')\n",
        "  df = df.append(age_n(i, df_sample5)) \n",
        "  df_sample6 = pd.read_csv(f'{i}_요일 별 매출 건수')\n",
        "  df = df.append(week_n(i, df_sample6)) \n",
        "  df_sample7 = pd.read_csv(f'{i}_요일 별 매출 금액')\n",
        "  df = df.append(week_won(i, df_sample7)) "
      ],
      "metadata": {
        "id": "hOELxCyPe8uM"
      },
      "execution_count": 13,
      "outputs": []
    },
    {
      "cell_type": "code",
      "source": [
        "df"
      ],
      "metadata": {
        "colab": {
          "base_uri": "https://localhost:8080/",
          "height": 423
        },
        "id": "hnZTkaBKhi8d",
        "outputId": "4d60d38e-433c-400f-dda8-e6ce4298ec07"
      },
      "execution_count": 14,
      "outputs": [
        {
          "output_type": "execute_result",
          "data": {
            "text/plain": [
              "    dong  food  func  set       data\n",
              "0    0.0   0.0   4.0  0.0       60.3\n",
              "1    0.0   0.0   4.0  1.0       39.7\n",
              "2    0.0   1.0   4.0  0.0       59.6\n",
              "3    0.0   1.0   4.0  1.0       40.4\n",
              "4    0.0   2.0   4.0  0.0       69.4\n",
              "..   ...   ...   ...  ...        ...\n",
              "65  15.0   9.0  22.0  2.0  4159500.0\n",
              "66  15.0   9.0  22.0  3.0  4175620.0\n",
              "67  15.0   9.0  22.0  4.0  3987600.0\n",
              "68  15.0   9.0  22.0  5.0  1152040.0\n",
              "69  15.0   9.0  22.0  6.0   872400.0\n",
              "\n",
              "[6400 rows x 5 columns]"
            ],
            "text/html": [
              "\n",
              "  <div id=\"df-948df8c7-2287-4f09-b26a-0f3c7154d464\">\n",
              "    <div class=\"colab-df-container\">\n",
              "      <div>\n",
              "<style scoped>\n",
              "    .dataframe tbody tr th:only-of-type {\n",
              "        vertical-align: middle;\n",
              "    }\n",
              "\n",
              "    .dataframe tbody tr th {\n",
              "        vertical-align: top;\n",
              "    }\n",
              "\n",
              "    .dataframe thead th {\n",
              "        text-align: right;\n",
              "    }\n",
              "</style>\n",
              "<table border=\"1\" class=\"dataframe\">\n",
              "  <thead>\n",
              "    <tr style=\"text-align: right;\">\n",
              "      <th></th>\n",
              "      <th>dong</th>\n",
              "      <th>food</th>\n",
              "      <th>func</th>\n",
              "      <th>set</th>\n",
              "      <th>data</th>\n",
              "    </tr>\n",
              "  </thead>\n",
              "  <tbody>\n",
              "    <tr>\n",
              "      <th>0</th>\n",
              "      <td>0.0</td>\n",
              "      <td>0.0</td>\n",
              "      <td>4.0</td>\n",
              "      <td>0.0</td>\n",
              "      <td>60.3</td>\n",
              "    </tr>\n",
              "    <tr>\n",
              "      <th>1</th>\n",
              "      <td>0.0</td>\n",
              "      <td>0.0</td>\n",
              "      <td>4.0</td>\n",
              "      <td>1.0</td>\n",
              "      <td>39.7</td>\n",
              "    </tr>\n",
              "    <tr>\n",
              "      <th>2</th>\n",
              "      <td>0.0</td>\n",
              "      <td>1.0</td>\n",
              "      <td>4.0</td>\n",
              "      <td>0.0</td>\n",
              "      <td>59.6</td>\n",
              "    </tr>\n",
              "    <tr>\n",
              "      <th>3</th>\n",
              "      <td>0.0</td>\n",
              "      <td>1.0</td>\n",
              "      <td>4.0</td>\n",
              "      <td>1.0</td>\n",
              "      <td>40.4</td>\n",
              "    </tr>\n",
              "    <tr>\n",
              "      <th>4</th>\n",
              "      <td>0.0</td>\n",
              "      <td>2.0</td>\n",
              "      <td>4.0</td>\n",
              "      <td>0.0</td>\n",
              "      <td>69.4</td>\n",
              "    </tr>\n",
              "    <tr>\n",
              "      <th>...</th>\n",
              "      <td>...</td>\n",
              "      <td>...</td>\n",
              "      <td>...</td>\n",
              "      <td>...</td>\n",
              "      <td>...</td>\n",
              "    </tr>\n",
              "    <tr>\n",
              "      <th>65</th>\n",
              "      <td>15.0</td>\n",
              "      <td>9.0</td>\n",
              "      <td>22.0</td>\n",
              "      <td>2.0</td>\n",
              "      <td>4159500.0</td>\n",
              "    </tr>\n",
              "    <tr>\n",
              "      <th>66</th>\n",
              "      <td>15.0</td>\n",
              "      <td>9.0</td>\n",
              "      <td>22.0</td>\n",
              "      <td>3.0</td>\n",
              "      <td>4175620.0</td>\n",
              "    </tr>\n",
              "    <tr>\n",
              "      <th>67</th>\n",
              "      <td>15.0</td>\n",
              "      <td>9.0</td>\n",
              "      <td>22.0</td>\n",
              "      <td>4.0</td>\n",
              "      <td>3987600.0</td>\n",
              "    </tr>\n",
              "    <tr>\n",
              "      <th>68</th>\n",
              "      <td>15.0</td>\n",
              "      <td>9.0</td>\n",
              "      <td>22.0</td>\n",
              "      <td>5.0</td>\n",
              "      <td>1152040.0</td>\n",
              "    </tr>\n",
              "    <tr>\n",
              "      <th>69</th>\n",
              "      <td>15.0</td>\n",
              "      <td>9.0</td>\n",
              "      <td>22.0</td>\n",
              "      <td>6.0</td>\n",
              "      <td>872400.0</td>\n",
              "    </tr>\n",
              "  </tbody>\n",
              "</table>\n",
              "<p>6400 rows × 5 columns</p>\n",
              "</div>\n",
              "      <button class=\"colab-df-convert\" onclick=\"convertToInteractive('df-948df8c7-2287-4f09-b26a-0f3c7154d464')\"\n",
              "              title=\"Convert this dataframe to an interactive table.\"\n",
              "              style=\"display:none;\">\n",
              "        \n",
              "  <svg xmlns=\"http://www.w3.org/2000/svg\" height=\"24px\"viewBox=\"0 0 24 24\"\n",
              "       width=\"24px\">\n",
              "    <path d=\"M0 0h24v24H0V0z\" fill=\"none\"/>\n",
              "    <path d=\"M18.56 5.44l.94 2.06.94-2.06 2.06-.94-2.06-.94-.94-2.06-.94 2.06-2.06.94zm-11 1L8.5 8.5l.94-2.06 2.06-.94-2.06-.94L8.5 2.5l-.94 2.06-2.06.94zm10 10l.94 2.06.94-2.06 2.06-.94-2.06-.94-.94-2.06-.94 2.06-2.06.94z\"/><path d=\"M17.41 7.96l-1.37-1.37c-.4-.4-.92-.59-1.43-.59-.52 0-1.04.2-1.43.59L10.3 9.45l-7.72 7.72c-.78.78-.78 2.05 0 2.83L4 21.41c.39.39.9.59 1.41.59.51 0 1.02-.2 1.41-.59l7.78-7.78 2.81-2.81c.8-.78.8-2.07 0-2.86zM5.41 20L4 18.59l7.72-7.72 1.47 1.35L5.41 20z\"/>\n",
              "  </svg>\n",
              "      </button>\n",
              "      \n",
              "  <style>\n",
              "    .colab-df-container {\n",
              "      display:flex;\n",
              "      flex-wrap:wrap;\n",
              "      gap: 12px;\n",
              "    }\n",
              "\n",
              "    .colab-df-convert {\n",
              "      background-color: #E8F0FE;\n",
              "      border: none;\n",
              "      border-radius: 50%;\n",
              "      cursor: pointer;\n",
              "      display: none;\n",
              "      fill: #1967D2;\n",
              "      height: 32px;\n",
              "      padding: 0 0 0 0;\n",
              "      width: 32px;\n",
              "    }\n",
              "\n",
              "    .colab-df-convert:hover {\n",
              "      background-color: #E2EBFA;\n",
              "      box-shadow: 0px 1px 2px rgba(60, 64, 67, 0.3), 0px 1px 3px 1px rgba(60, 64, 67, 0.15);\n",
              "      fill: #174EA6;\n",
              "    }\n",
              "\n",
              "    [theme=dark] .colab-df-convert {\n",
              "      background-color: #3B4455;\n",
              "      fill: #D2E3FC;\n",
              "    }\n",
              "\n",
              "    [theme=dark] .colab-df-convert:hover {\n",
              "      background-color: #434B5C;\n",
              "      box-shadow: 0px 1px 3px 1px rgba(0, 0, 0, 0.15);\n",
              "      filter: drop-shadow(0px 1px 2px rgba(0, 0, 0, 0.3));\n",
              "      fill: #FFFFFF;\n",
              "    }\n",
              "  </style>\n",
              "\n",
              "      <script>\n",
              "        const buttonEl =\n",
              "          document.querySelector('#df-948df8c7-2287-4f09-b26a-0f3c7154d464 button.colab-df-convert');\n",
              "        buttonEl.style.display =\n",
              "          google.colab.kernel.accessAllowed ? 'block' : 'none';\n",
              "\n",
              "        async function convertToInteractive(key) {\n",
              "          const element = document.querySelector('#df-948df8c7-2287-4f09-b26a-0f3c7154d464');\n",
              "          const dataTable =\n",
              "            await google.colab.kernel.invokeFunction('convertToInteractive',\n",
              "                                                     [key], {});\n",
              "          if (!dataTable) return;\n",
              "\n",
              "          const docLinkHtml = 'Like what you see? Visit the ' +\n",
              "            '<a target=\"_blank\" href=https://colab.research.google.com/notebooks/data_table.ipynb>data table notebook</a>'\n",
              "            + ' to learn more about interactive tables.';\n",
              "          element.innerHTML = '';\n",
              "          dataTable['output_type'] = 'display_data';\n",
              "          await google.colab.output.renderOutput(dataTable, element);\n",
              "          const docLink = document.createElement('div');\n",
              "          docLink.innerHTML = docLinkHtml;\n",
              "          element.appendChild(docLink);\n",
              "        }\n",
              "      </script>\n",
              "    </div>\n",
              "  </div>\n",
              "  "
            ]
          },
          "metadata": {},
          "execution_count": 14
        }
      ]
    },
    {
      "cell_type": "code",
      "source": [
        "df.to_csv('func1_data.csv') "
      ],
      "metadata": {
        "id": "TkgMK-xxQfl2"
      },
      "execution_count": 15,
      "outputs": []
    },
    {
      "cell_type": "code",
      "source": [
        ""
      ],
      "metadata": {
        "id": "i60TsicORdqC"
      },
      "execution_count": null,
      "outputs": []
    }
  ]
}